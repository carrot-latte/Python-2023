{
 "cells": [
  {
   "attachments": {},
   "cell_type": "markdown",
   "metadata": {},
   "source": [
    "Jeden lístek do divadla \"Pěst na oko\" stojí 12 euro. Spočítejte měsíční příjem divadla ze vstupného přichází-li průměrně 174 návštěvníků na jedno představení a divadlo hraje 15 představení měsíčně."
   ]
  },
  {
   "cell_type": "code",
   "execution_count": 1,
   "metadata": {},
   "outputs": [
    {
     "name": "stdout",
     "output_type": "stream",
     "text": [
      "Mesicni prijem divadla Pest na Oko je 31320 eur.\n"
     ]
    }
   ],
   "source": [
    "jeden_listek = 12\n",
    "navstevniku_na_jedno_predstaveni = 174\n",
    "mesicne_predstaveni = 15\n",
    "\n",
    "navstevniku = jeden_listek * navstevniku_na_jedno_predstaveni\n",
    "mesicni_prijem = navstevniku * mesicne_predstaveni\n",
    "\n",
    "print(f'Mesicni prijem divadla Pest na Oko je {mesicni_prijem} eur mesicne.')"
   ]
  },
  {
   "attachments": {},
   "cell_type": "markdown",
   "metadata": {},
   "source": [
    "Divadlo se rozhodlo prodávat studentské vstupné ve výši 65% plného vstupného. Jak se změní měsíční příjem divadla pokud víme, že polovina návštěvníků jsou studenti?"
   ]
  },
  {
   "cell_type": "code",
   "execution_count": 6,
   "metadata": {},
   "outputs": [
    {
     "name": "stdout",
     "output_type": "stream",
     "text": [
      "\n",
      "Mesicni prijem divadla Pest na oko se studenskym vstupnym je 25839.0 eur mesicne.\n"
     ]
    }
   ],
   "source": [
    "studenske_vstupne = jeden_listek /100 * 65\n",
    "polovina_navstevniku = navstevniku_na_jedno_predstaveni /2\n",
    "novy_navstevnici = (polovina_navstevniku * jeden_listek) + (studenske_vstupne * polovina_navstevniku) \n",
    "novy_mesicni_prijem = novy_navstevnici * mesicne_predstaveni\n",
    "\n",
    "print(f'Mesicni prijem divadla Pest na oko se studenskym vstupnym je {novy_mesicni_prijem} eur mesicne.')"
   ]
  }
 ],
 "metadata": {
  "kernelspec": {
   "display_name": "Python 3",
   "language": "python",
   "name": "python3"
  },
  "language_info": {
   "codemirror_mode": {
    "name": "ipython",
    "version": 3
   },
   "file_extension": ".py",
   "mimetype": "text/x-python",
   "name": "python",
   "nbconvert_exporter": "python",
   "pygments_lexer": "ipython3",
   "version": "3.8.6"
  },
  "orig_nbformat": 4
 },
 "nbformat": 4,
 "nbformat_minor": 2
}
